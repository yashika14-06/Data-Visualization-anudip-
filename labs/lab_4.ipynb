{
 "cells": [
  {
   "cell_type": "code",
   "execution_count": 2,
   "id": "0a8b4294-9335-44df-bc2b-9c5514fe8806",
   "metadata": {},
   "outputs": [
    {
     "name": "stdout",
     "output_type": "stream",
     "text": [
      "the sum of all the elements of the list is :  103\n"
     ]
    }
   ],
   "source": [
    "# Assignment:\n",
    "\n",
    "# 1. Write a Python program to sum all the items in a list.\n",
    "lst = [2,3,4,5,67,8,5,9]\n",
    "sum = 0\n",
    "for i in lst:\n",
    "    sum = sum + i\n",
    "print(\"the sum of all the elements of the list is : \",sum)"
   ]
  },
  {
   "cell_type": "code",
   "execution_count": 4,
   "id": "7c238a02-5700-40da-ba15-297c8bb6043e",
   "metadata": {},
   "outputs": [
    {
     "name": "stdout",
     "output_type": "stream",
     "text": [
      "the largest element in the list is :  98\n",
      "the smallest element in the list is :  0\n"
     ]
    }
   ],
   "source": [
    "# 2. Write a Python program to get the largest and smallest number from a list without\n",
    "\n",
    "# builtin functions.\n",
    "\n",
    "lst = [4,3,6,9,2,4,9,4,66,98]\n",
    "max = 0\n",
    "min = 0\n",
    "for i in lst:\n",
    "    if max < i:\n",
    "        max = i\n",
    "    if min > i:\n",
    "        min = i\n",
    "print(\"the largest element in the list is : \",max)\n",
    "print(\"the smallest element in the list is : \",min)\n",
    "\n",
    "\n"
   ]
  },
  {
   "cell_type": "code",
   "execution_count": 34,
   "id": "b0c8fc8d-97fa-44b8-87c5-d377b91f8fc4",
   "metadata": {},
   "outputs": [
    {
     "name": "stdout",
     "output_type": "stream",
     "text": [
      "{9: 1, 4: 1, 5: 3, 2: 1, 8: 1}\n",
      "(5, 3)\n"
     ]
    }
   ],
   "source": [
    "# 3. Write a Python program to find duplicate values from a list and display those.\n",
    "lst = [9 , 4, 5 ,5 ,2 , 5 , 8]\n",
    "dict = {}\n",
    "for i in lst:\n",
    "    count = 0\n",
    "    for j in lst:\n",
    "        if i == j:\n",
    "            count += 1\n",
    "    dict[i] = count\n",
    "val = dict.values()\n",
    "k = dict.keys()\n",
    "for i in dict.items():\n",
    "    if i[1] > 1:\n",
    "        print(i)"
   ]
  },
  {
   "cell_type": "code",
   "execution_count": 73,
   "id": "275f0823-d765-4713-a1ac-0179512c0de2",
   "metadata": {},
   "outputs": [
    {
     "name": "stdout",
     "output_type": "stream",
     "text": [
      "list 1 :  [1, 1, 2]\n",
      "list 2 :  [3, 4, 4, 5, 1]\n"
     ]
    }
   ],
   "source": [
    "# 4. Write a Python program to split a given list into two parts where the length of the first\n",
    "\n",
    "# part of the list is given.\n",
    "\n",
    "# Original list:\n",
    "\n",
    "# [1, 1, 2, 3, 4, 4, 5, 1]\n",
    "\n",
    "# Length of the first part of the list: 3\n",
    "\n",
    "# Splitted the said list into two parts:\n",
    "\n",
    "# ([1, 1, 2], [3, 4, 4, 5, 1])\n",
    "\n",
    "l1 = [1, 1, 2, 3, 4, 4, 5, 1]\n",
    "l2 = []\n",
    "l3 = []\n",
    "size = len(l1) - 1\n",
    "for i in range(size):\n",
    "    if i <=2:\n",
    "        l2.insert(i,l1[0])\n",
    "        del l1[0]\n",
    "print(\"list 1 : \" , l2)\n",
    "print(\"list 2 : \" , l1)"
   ]
  },
  {
   "cell_type": "code",
   "execution_count": 80,
   "id": "b4f959c3-6acb-442d-a376-3b48ff73ddd7",
   "metadata": {},
   "outputs": [
    {
     "name": "stdout",
     "output_type": "stream",
     "text": [
      "index :  3 element :  black\n",
      "index :  2 element :  white\n",
      "index :  1 element :  green\n",
      "index :  0 element :  red\n"
     ]
    }
   ],
   "source": [
    "\n",
    "\n",
    "# 5. Write a Python program to traverse a given list in reverse order, and print the\n",
    "\n",
    "# elements with the original index.\n",
    "\n",
    "# Original list:\n",
    "\n",
    "# ['red', 'green', 'white', 'black']\n",
    "\n",
    "# Traverse the said list in reverse order:\n",
    "# black\n",
    "\n",
    "# white\n",
    "\n",
    "# green\n",
    "\n",
    "# red\n",
    "\n",
    "list = ['red', 'green', 'white', 'black']\n",
    "# print(list[::-1])\n",
    "size = len(list)-1\n",
    "for i in range(size,-1,-1):\n",
    "    print(\"index : \",i,\"element : \",list[i])\n",
    "    "
   ]
  },
  {
   "cell_type": "code",
   "execution_count": 10,
   "id": "1e9339d4-49a5-4abe-af3f-b9ce3169891d",
   "metadata": {},
   "outputs": [
    {
     "name": "stdout",
     "output_type": "stream",
     "text": [
      "the main is :  6.2\n"
     ]
    }
   ],
   "source": [
    "# Assignment:\n",
    "# 1. Write a Python program and calculate the mean of the below dictionary.\n",
    "\n",
    "# test_dict = {\"A\" : 6, \"B\" : 9, \"C\" : 5, \"D\" : 7, \"E\" : 4}\n",
    "# Output: 6.2\n",
    "import numpy as np\n",
    "test_dict = {\"A\" : 6, \"B\" : 9, \"C\" : 5, \"D\" : 7, \"E\" : 4}\n",
    "\n",
    "sum = 0\n",
    "for i in test_dict.values():\n",
    "    sum = sum+i\n",
    "# me =\n",
    "print(\"the main is : \",sum/(len(test_dict)))\n",
    "      \n"
   ]
  },
  {
   "cell_type": "code",
   "execution_count": 22,
   "id": "d678d97c-b644-4dad-8156-d7a3e5280222",
   "metadata": {},
   "outputs": [
    {
     "name": "stdout",
     "output_type": "stream",
     "text": [
      "{1: 10, 2: 20, 3: 30, 4: 40, 5: 50, 6: 60}\n"
     ]
    }
   ],
   "source": [
    "# 2.Write a Python script to concatenate the following dictionaries to create a new one.\n",
    "# Sample Dictionary :\n",
    "# dic1={1:10, 2:20}\n",
    "# dic2={3:30, 4:40}\n",
    "# dic3={5:50,6:60}\n",
    "# Expected Result : {1: 10, 2: 20, 3: 30, 4: 40, 5: 50, 6: 60}\n",
    "\n",
    "dict1={1:10, 2:20}\n",
    "dict2={3:30, 4:40}\n",
    "dict3={5:50,6:60}\n",
    "dict4 = {}\n",
    "dict4.update(dict1)\n",
    "dict4.update(dict2)\n",
    "dict4.update(dict3)\n",
    "print(dict4)\n"
   ]
  },
  {
   "cell_type": "code",
   "execution_count": 24,
   "id": "e4a65ef4-a5cb-471c-ac35-5154da7b30af",
   "metadata": {},
   "outputs": [
    {
     "name": "stdout",
     "output_type": "stream",
     "text": [
      "1 10\n",
      "2 20\n",
      "3 30\n",
      "4 40\n",
      "5 50\n",
      "6 60\n"
     ]
    }
   ],
   "source": [
    "\n",
    "# 3.Write a Python program to get the key, value and item in a dictionary.\n",
    "# input:dict_num = {1: 10, 2: 20, 3: 30, 4: 40, 5: 50, 6: 60}\n",
    "\n",
    "dict_num = {1: 10, 2: 20, 3: 30, 4: 40, 5: 50, 6: 60}\n",
    "for item in dict_num.items():\n",
    "    print(*item)\n",
    "# Output:\n",
    "# Key \tValue\n",
    "\n",
    "# 1\t10\n",
    "\n",
    "# 2\t20\n",
    "\n",
    "# 3\t30\n",
    "\n",
    "# 4\t40\n",
    "\n",
    "# 5\t50\n",
    "\n",
    "# 6\t60"
   ]
  },
  {
   "cell_type": "code",
   "execution_count": 7,
   "id": "e40e62ca-152d-4eb0-ac09-a7648f958e7e",
   "metadata": {},
   "outputs": [
    {
     "name": "stdout",
     "output_type": "stream",
     "text": [
      "{1: 10, 2: 20, 4: 40, 6: 60}\n"
     ]
    }
   ],
   "source": [
    "# 4.Write a Python program to get the key, value and item in a dictionary.\n",
    "\n",
    "# Input: input_dict = {1: 10, 2: 20, 3:None, 4: 40, 5: None, 6: 60}\n",
    "input_dict = {1: 10, 2: 20, 3:None, 4: 40, 5: None, 6: 60}\n",
    "none_key = [key for key , value in input_dict.items() if value is None]\n",
    "# used list comprehension for removing the none values\n",
    "for key in none_key:\n",
    "    del input_dict[key]\n",
    "print(input_dict)\n",
    "# Output:\n",
    "\n",
    "# dict with empty items Dropped :\n",
    "\n",
    "# {1:10,2:40,4:40,6:60}"
   ]
  },
  {
   "cell_type": "code",
   "execution_count": 13,
   "id": "b8493b38-d4a7-4a57-a245-ab7940aa8032",
   "metadata": {},
   "outputs": [
    {
     "name": "stdout",
     "output_type": "stream",
     "text": [
      "3\n"
     ]
    }
   ],
   "source": [
    "# 1. Write a Python program to find the number of times 4 appears in the tuple.\n",
    "# Input:\n",
    "# tuplex = (2, 4, 5, 6, 2, 3, 4, 4, 7 )\n",
    "\n",
    "tuplex = (2, 4, 5, 6, 2, 3, 4, 4, 7 )\n",
    "count = 0\n",
    "for i in tuplex:\n",
    "    if i == 4:\n",
    "        count += 1\n",
    "print(count)\n"
   ]
  },
  {
   "cell_type": "code",
   "execution_count": 16,
   "id": "9833c22c-b539-41a9-a553-549ccd43b32b",
   "metadata": {},
   "outputs": [
    {
     "name": "stdout",
     "output_type": "stream",
     "text": [
      "(5, 10, 7, 4, 15, 3)\n"
     ]
    }
   ],
   "source": [
    "# 2.Write a Python program to convert a list to a tuple.\n",
    "# Input: listx = [5, 10, 7, 4, 15, 3]\n",
    "\n",
    "listx = [5, 10, 7, 4, 15, 3]\n",
    "\n",
    "tup = tuple(listx)\n",
    "\n",
    "print(tup)\n",
    "# Output: (5, 10, 7, 4, 15, 3)\n"
   ]
  },
  {
   "cell_type": "code",
   "execution_count": 23,
   "id": "dcda6c0e-9d59-4677-aca2-5e4834aa4c76",
   "metadata": {},
   "outputs": [
    {
     "name": "stdout",
     "output_type": "stream",
     "text": [
      "sum of tuple is :  21\n"
     ]
    }
   ],
   "source": [
    "# 3. Write a Python program to calculate the sum of the numbers in a given tuple.\n",
    "# Input: tuples_list = [(1, 2), (3, 4), (5, 6)]\n",
    "tuples_list = [(1, 2), (3, 4), (5, 6)]\n",
    "sum1 = 0\n",
    "for i in tuples_list:\n",
    "    for j in i:\n",
    "        sum1 = sum1 + j\n",
    "\n",
    "print(\"sum of tuple is : \",sum1)\n",
    "# Output:\n",
    "# sum of tuple is : 21 \n"
   ]
  },
  {
   "cell_type": "code",
   "execution_count": 32,
   "id": "58608114-be57-4b6d-b68c-da12f8cda5b2",
   "metadata": {},
   "outputs": [
    {
     "name": "stdout",
     "output_type": "stream",
     "text": [
      "Employee Records : \n",
      "Name :  John Doe\n",
      "Employee ID :  101\n",
      "Department Human Resources\n",
      "Salary :  60000\n",
      "Name :  Alice Smith\n",
      "Employee ID :  102\n",
      "Department Marketing\n",
      "Salary :  55000\n",
      "Name :  Bob Johnson\n",
      "Employee ID :  103\n",
      "Department Engineering\n",
      "Salary :  75000\n"
     ]
    }
   ],
   "source": [
    "# 4.Write a python program and iterate the given tuples\n",
    "# Input:\n",
    "# employee1 = (\"John Doe\", 101, \"Human Resources\", 60000)\n",
    "# employee2 = (\"Alice Smith\", 102, \"Marketing\", 55000)\n",
    "# employee3 = (\"Bob Johnson\", 103, \"Engineering\", 75000)\n",
    "\n",
    "employee1 = (\"John Doe\", 101, \"Human Resources\", 60000)\n",
    "employee2 = (\"Alice Smith\", 102, \"Marketing\", 55000)\n",
    "employee3 = (\"Bob Johnson\", 103, \"Engineering\", 75000)\n",
    "list_1 = []\n",
    "list_1.append(employee1)\n",
    "list_1.append(employee2)\n",
    "list_1.append(employee3)\n",
    "print(\"Employee Records : \")\n",
    "for i  in list_1:\n",
    "    print(\"Name : \",i[0])\n",
    "    print(\"Employee ID : \",i[1])\n",
    "    print(\"Department\",i[2])\n",
    "    print(\"Salary : \",i[3])\n",
    "# Output:\n",
    "# Employee Records :\n",
    "# Name : John Doe\n",
    "# Employee ID : 101\n",
    "# Department : Human Resources\n",
    "# Salary\t:  60000\n",
    "# Name : Alice Smith\n",
    "# Employee ID : 102\n",
    "# Department :Marketing\n",
    "# Salary\t:  55000\n",
    "# Name : Bob Johnson\n",
    "# Employee ID : 103\n",
    "# Department : Engineering\n",
    "# Salary\t:  75000"
   ]
  },
  {
   "cell_type": "code",
   "execution_count": null,
   "id": "b6a2b049-1e1e-4be5-b08a-c6ea7073ce4b",
   "metadata": {},
   "outputs": [],
   "source": [
    "!pip install streamlit "
   ]
  },
  {
   "cell_type": "code",
   "execution_count": 6,
   "id": "07e95f08-0d60-446d-8cd2-d4b255fd005a",
   "metadata": {},
   "outputs": [
    {
     "data": {
      "text/plain": [
       "{10, 20, 30, 40, 50, 60, 70}"
      ]
     },
     "execution_count": 6,
     "metadata": {},
     "output_type": "execute_result"
    }
   ],
   "source": [
    "# Assignment:\n",
    "# 1. Write a Python program to Get Only unique items from two sets.\n",
    "# Input:\n",
    "# set1 = {10, 20, 30, 40, 50}\n",
    "# set2 = {30, 40, 50, 60, 70}\n",
    "set1 = {10, 20, 30, 40, 50}\n",
    "set2 = {30, 40, 50, 60, 70}\n",
    "set2.union(set1)\n",
    "# Output:\n",
    "# {70, 40, 10, 50, 20, 60, 30}\n",
    "\n"
   ]
  },
  {
   "cell_type": "code",
   "execution_count": 1,
   "id": "d3f97db7-4e5c-4812-ba59-7d436d195259",
   "metadata": {},
   "outputs": [
    {
     "name": "stdout",
     "output_type": "stream",
     "text": [
      "{70, 10, 20, 60}\n"
     ]
    }
   ],
   "source": [
    "# 2. Write a Python program to Return a set of elements present in Set A or B, but\n",
    "# not both.\n",
    "# Input:\n",
    "# set1 = {10, 20, 30, 40, 50}\n",
    "# set2 = {30, 40, 50, 60, 70}\n",
    "set1 = {10, 20, 30, 40, 50}\n",
    "set2 = {30, 40, 50, 60, 70}\n",
    "print((set1-set2 ).union(set2 - set1))\n",
    "# Output:\n",
    "# {20, 70, 10, 60}\n",
    "\n"
   ]
  },
  {
   "cell_type": "code",
   "execution_count": 5,
   "id": "ddc0f31f-63be-45ae-9fe5-ed8452c43c28",
   "metadata": {},
   "outputs": [
    {
     "name": "stdout",
     "output_type": "stream",
     "text": [
      "{10}\n"
     ]
    }
   ],
   "source": [
    "# 3. Write a Python program to Check if two sets have any elements in common. If\n",
    "# yes, display the common elements.\n",
    "# Input:\n",
    "# set1 = {10, 20, 30, 40, 50}\n",
    "# set2 = {60, 70, 80, 90, 10}\n",
    "\n",
    "set1 = {10, 20, 30, 40, 50}\n",
    "set2 = {60, 70, 80, 90, 10}\n",
    "\n",
    "print(set1&set2)\n",
    "# Output:\n",
    "# {10}\n"
   ]
  },
  {
   "cell_type": "code",
   "execution_count": 7,
   "id": "d7ffc2cf-19a1-49f0-a331-0e1ee662b1fe",
   "metadata": {},
   "outputs": [
    {
     "name": "stdout",
     "output_type": "stream",
     "text": [
      "{40, 50, 30}\n"
     ]
    }
   ],
   "source": [
    "# 4. Write a Python program to Remove items from set1 that are not common to\n",
    "# both set1 and set2.\n",
    "# Input:\n",
    "# set1 = {10, 20, 30, 40, 50}\n",
    "# set2 = {30, 40, 50, 60, 70}\n",
    "set1 = {10, 20, 30, 40, 50}\n",
    "set2 = {30, 40, 50, 60, 70}\n",
    "neww = list(set1-set2)\n",
    "mod = list(set1)\n",
    "for i in mod:\n",
    "    for j in neww:\n",
    "        if i == j:\n",
    "            mod.remove(i)\n",
    "set1 = set(mod)\n",
    "print(set1)"
   ]
  },
  {
   "cell_type": "code",
   "execution_count": null,
   "id": "3321e6e2-a83f-4012-9815-1a05b04148ec",
   "metadata": {},
   "outputs": [],
   "source": []
  }
 ],
 "metadata": {
  "kernelspec": {
   "display_name": "Python 3 (ipykernel)",
   "language": "python",
   "name": "python3"
  },
  "language_info": {
   "codemirror_mode": {
    "name": "ipython",
    "version": 3
   },
   "file_extension": ".py",
   "mimetype": "text/x-python",
   "name": "python",
   "nbconvert_exporter": "python",
   "pygments_lexer": "ipython3",
   "version": "3.12.4"
  }
 },
 "nbformat": 4,
 "nbformat_minor": 5
}
