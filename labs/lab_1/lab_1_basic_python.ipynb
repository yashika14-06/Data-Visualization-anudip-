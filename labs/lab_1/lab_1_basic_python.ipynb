{
 "cells": [
  {
   "cell_type": "code",
   "execution_count": 2,
   "id": "b0e233e5-7a6b-4877-b3ab-5fa4f3eb74f4",
   "metadata": {},
   "outputs": [
    {
     "name": "stdin",
     "output_type": "stream",
     "text": [
      "Enter the input number :  2\n"
     ]
    },
    {
     "name": "stdout",
     "output_type": "stream",
     "text": [
      "even number\n"
     ]
    }
   ],
   "source": [
    "# 1. Using input() function take one number from the user and using ternary operators\n",
    "# check whether the number is even or odd\n",
    "a = int(input(\"Enter the input number : \"))\n",
    "print(\"even number\" if a%2 == 0 else \"Odd Number\")\n"
   ]
  },
  {
   "cell_type": "code",
   "execution_count": 5,
   "id": "04c02960-455f-4700-9943-f0715cd5bf79",
   "metadata": {},
   "outputs": [
    {
     "name": "stdin",
     "output_type": "stream",
     "text": [
      "enter the 1st number :  8\n",
      "enter the 2nd number :  4\n"
     ]
    },
    {
     "name": "stdout",
     "output_type": "stream",
     "text": [
      "the swapped numbers a :  4\n",
      "the swapped numbers b :  8\n"
     ]
    }
   ],
   "source": [
    "# 2. Using input function take two number and then swap the number\n",
    "a = int(input(\"enter the 1st number : \"))\n",
    "b = int(input(\"enter the 2nd number : \"))\n",
    "# a,b=b,a\n",
    "a = a+b  \n",
    "b = a-b\n",
    "a = a-b\n",
    "print(\"the swapped numbers a : \",a)\n",
    "print(\"the swapped numbers b : \",b)\n"
   ]
  },
  {
   "cell_type": "code",
   "execution_count": 6,
   "id": "b261b4af-988b-4069-8e1a-53100db42cbf",
   "metadata": {},
   "outputs": [
    {
     "name": "stdin",
     "output_type": "stream",
     "text": [
      "enter the sidtance in kms :  25\n"
     ]
    },
    {
     "name": "stdout",
     "output_type": "stream",
     "text": [
      "the distance in miles :  15.525\n"
     ]
    }
   ],
   "source": [
    "# 3. Write a Program to Convert Kilometers to Miles\n",
    "kms = int(input(\"enter the sidtance in kms : \"))\n",
    "miles = kms*0.621\n",
    "print(\"the distance in miles : \",miles)\n"
   ]
  },
  {
   "cell_type": "code",
   "execution_count": 7,
   "id": "95653b22-bfe9-422a-a6b1-f438097004fe",
   "metadata": {},
   "outputs": [
    {
     "name": "stdout",
     "output_type": "stream",
     "text": [
      "the interest per year :  50.0\n"
     ]
    }
   ],
   "source": [
    "# 4. Find the Simple Interest on Rs. 200 for 5 years at 5% per year\n",
    "amount = 200\n",
    "rate = 5\n",
    "time = 5\n",
    "interest = (amount*rate*time)/100\n",
    "print(\"the interest per year : \",interest)"
   ]
  },
  {
   "cell_type": "code",
   "execution_count": null,
   "id": "f25e9607-36f7-4e22-ad94-eaefc7e96f2f",
   "metadata": {},
   "outputs": [],
   "source": []
  }
 ],
 "metadata": {
  "kernelspec": {
   "display_name": "Python 3 (ipykernel)",
   "language": "python",
   "name": "python3"
  },
  "language_info": {
   "codemirror_mode": {
    "name": "ipython",
    "version": 3
   },
   "file_extension": ".py",
   "mimetype": "text/x-python",
   "name": "python",
   "nbconvert_exporter": "python",
   "pygments_lexer": "ipython3",
   "version": "3.12.4"
  }
 },
 "nbformat": 4,
 "nbformat_minor": 5
}
