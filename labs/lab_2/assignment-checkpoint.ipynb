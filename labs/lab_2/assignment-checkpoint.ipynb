{
 "cells": [
  {
   "cell_type": "code",
   "execution_count": 2,
   "id": "0fe1a0da-7c02-4b53-8f64-32f1009879b2",
   "metadata": {},
   "outputs": [
    {
     "name": "stdout",
     "output_type": "stream",
     "text": [
      "hot day 36.8 (array([0]),)\n",
      "hot day 38.7 (array([0]),)\n",
      "hot day 37.2 (array([0]),)\n"
     ]
    },
    {
     "name": "stderr",
     "output_type": "stream",
     "text": [
      "C:\\Users\\Lenovo\\AppData\\Local\\Temp\\ipykernel_23672\\2557738241.py:5: DeprecationWarning: Calling nonzero on 0d arrays is deprecated, as it behaves surprisingly. Use `atleast_1d(cond).nonzero()` if the old behavior was intended. If the context of this warning is of the form `arr[nonzero(cond)]`, just use `arr[cond]`.\n",
      "  print(\"hot day\",i , np.where(i>35))\n"
     ]
    }
   ],
   "source": [
    "import numpy as np\n",
    "tempratures = np.array([32.5,34.2,36.8,29.3 , 31.0 , 38.7 , 23.1 , 18.5 , 22.8 , 37.2])\n",
    "for i in tempratures :\n",
    "    if i > 35:\n",
    "        print(\"hot day\",i , np.where(tempratures > 35) + 1)\n",
    "    elif i < 5:\n",
    "        print(\"cold day\",i)"
   ]
  },
  {
   "cell_type": "code",
   "execution_count": null,
   "id": "a659a734-ae14-425d-a9b2-4d562239226b",
   "metadata": {},
   "outputs": [],
   "source": []
  }
 ],
 "metadata": {
  "kernelspec": {
   "display_name": "Python 3 (ipykernel)",
   "language": "python",
   "name": "python3"
  },
  "language_info": {
   "codemirror_mode": {
    "name": "ipython",
    "version": 3
   },
   "file_extension": ".py",
   "mimetype": "text/x-python",
   "name": "python",
   "nbconvert_exporter": "python",
   "pygments_lexer": "ipython3",
   "version": "3.12.4"
  }
 },
 "nbformat": 4,
 "nbformat_minor": 5
}
