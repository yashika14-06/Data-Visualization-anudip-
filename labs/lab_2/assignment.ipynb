{
 "cells": [
  {
   "cell_type": "code",
   "execution_count": 11,
   "id": "0fe1a0da-7c02-4b53-8f64-32f1009879b2",
   "metadata": {},
   "outputs": [
    {
     "name": "stdout",
     "output_type": "stream",
     "text": [
      "[ 3  6 10]\n",
      "hot day 36.8\n",
      "hot day 38.7\n",
      "hot day 37.2\n"
     ]
    }
   ],
   "source": [
    "import numpy as np\n",
    "tempratures = np.array([32.5,34.2,36.8,29.3 , 31.0 , 38.7 , 23.1 , 18.5 , 22.8 , 37.2])\n",
    "day = np.where(tempratures > 35)\n",
    "arr = np.array(day)\n",
    "print(*(arr+1))\n",
    "for i in tempratures :\n",
    "    if i > 35:\n",
    "        print(\"hot day\",i)\n",
    "    elif i < 5:\n",
    "        print(\"cold day\",i)"
   ]
  },
  {
   "cell_type": "code",
   "execution_count": 23,
   "id": "a659a734-ae14-425d-a9b2-4d562239226b",
   "metadata": {},
   "outputs": [
    {
     "name": "stdout",
     "output_type": "stream",
     "text": [
      "Quarter 1 sales\n",
      "[ 12 135 140]\n",
      "Quarter 2 sales\n",
      "[165 180 155]\n",
      "Quarter 3 sales\n",
      "[168 190 205]\n",
      "Quarter 4 sales\n",
      "[198 210 225]\n"
     ]
    }
   ],
   "source": [
    "monthy_sales = np.array([12,135,140,165,180,155,168,190,205,198,210,225])\n",
    "split_1 = np.split(monthy_sales , 4)\n",
    "index = np.where(split_1)\n",
    "index = np.array(index)\n",
    "count = 0\n",
    "for i in split_1:\n",
    "    print(\"Quarter\",count+1,\"sales\")\n",
    "    count += 1\n",
    "    print(i)\n",
    "    \n",
    "    "
   ]
  },
  {
   "cell_type": "code",
   "execution_count": 33,
   "id": "d5b88199-4e7e-4259-92bd-177f149a8b84",
   "metadata": {},
   "outputs": [
    {
     "name": "stdout",
     "output_type": "stream",
     "text": [
      "101,102,103,104,105,\n",
      "106,107,108,109,110,"
     ]
    }
   ],
   "source": [
    "customer_ids = np.array([101, 102, 103, 104, 105, 106, 107, 108, 109, 110])\n",
    "last_purchase_days_ago = np.array([5, 15, 20, 25, 30, 35, 40, 45, 50, 55])\n",
    "last_days_less_30 = np.where(last_purchase_days_ago <= 30)[0]\n",
    "# last_days_less_30 = np.array(last_days_less_30)\n",
    "# print(last_days_less_30+1)\n",
    "last_days_more_30 = np.where(last_purchase_days_ago > 30)[0]\n",
    "# last_days_more_30 = np.array(last_days_more_30)\n",
    "# print(last_days_more_30+1)\n",
    "# count = 0\n",
    "for i in last_days_less_30:\n",
    "    print(customer_ids[i],end=\",\")\n",
    "print()\n",
    "for i in last_days_more_30:\n",
    "    print(customer_ids[i],end=\",\")\n",
    "\n",
    "# for i in last_days_less_30:\n",
    "#     if customer_ids[count] == i:\n",
    "#         print(customer_ids[count])\n",
    "#         count += 1\n",
    "#     else:\n",
    "#         count += 1"
   ]
  },
  {
   "cell_type": "code",
   "execution_count": 50,
   "id": "d3a20df0-6d5d-41b8-8d86-7c4db08ca068",
   "metadata": {},
   "outputs": [
    {
     "name": "stdout",
     "output_type": "stream",
     "text": [
      "Employee ID :  101 Name :  John Doe Type :  Full-Time Salary :  55000\n",
      "Employee ID :  102 Name :  Jane Smith Type :  Full-Time Salary :  60000\n",
      "Employee ID :  103 Name :  Mike Johnson Type :  Full-Time Salary :  52000\n",
      "Employee ID :  201 Name :  Alice Brown Type :  Part-Time Salary :  25000\n",
      "Employee ID :  202 Name :  Bob Wilson Type :  Part-Time Salary :  28000\n",
      "Employee ID :  203 Name :  Emily Davis Type :  Part-Time Salary :  22000\n"
     ]
    }
   ],
   "source": [
    "# Employee data for full-time employees\n",
    "full_time_employees = np.array([\n",
    "[101, 'John Doe', 'Full-Time', 55000],\n",
    "[102, 'Jane Smith', 'Full-Time', 60000],\n",
    "[103, 'Mike Johnson', 'Full-Time', 52000]\n",
    "])\n",
    "# Employee data for part-time employees\n",
    "part_time_employees = np.array([\n",
    "[201, 'Alice Brown', 'Part-Time', 25000],\n",
    "[202, 'Bob Wilson', 'Part-Time', 28000],\n",
    "[203, 'Emily Davis', 'Part-Time', 22000]\n",
    "])\n",
    "\n",
    "# print(np.vstack((full_time_employees,part_time_employees)))\n",
    "new = np.vstack((full_time_employees,part_time_employees))\n",
    "for i in new:\n",
    "    print(\"Employee ID : \",i[0],\"Name : \",i[1] , \"Type : \",i[2],\"Salary : \",i[3])"
   ]
  },
  {
   "cell_type": "code",
   "execution_count": 56,
   "id": "d3204699-97f4-4a08-838c-7a13e4b16917",
   "metadata": {},
   "outputs": [
    {
     "name": "stdout",
     "output_type": "stream",
     "text": [
      "5.5,30.6,34.0,"
     ]
    }
   ],
   "source": [
    "list = [\n",
    "np.array([3, 2, 8, 9]),\n",
    "np.array([4, 12, 34, 25, 78]),\n",
    "np.array([23, 12, 67])\n",
    "]\n",
    "count = 0\n",
    "for i in list:\n",
    "    print(np.mean(list[count]) , end=\",\")\n",
    "    count += 1\n",
    "    \n"
   ]
  },
  {
   "cell_type": "code",
   "execution_count": 64,
   "id": "dda2adbd-eac0-46eb-9dba-20339bc1f68e",
   "metadata": {},
   "outputs": [
    {
     "name": "stdout",
     "output_type": "stream",
     "text": [
      "Printing the Original array : \n",
      "[1 2 3 4 5 6 7]\n",
      "Median of the array that contains odd no. of elements:\n",
      " 4.0\n"
     ]
    }
   ],
   "source": [
    "x_odd = np.array([1, 2, 3, 4, 5, 6, 7])\n",
    "print(\"Printing the Original array : \")\n",
    "print(x_odd)\n",
    "print(\"Median of the array that contains odd no. of elements:\\n\",np.median(x_odd))"
   ]
  },
  {
   "cell_type": "code",
   "execution_count": 71,
   "id": "138a64f0-7191-4897-982c-51f55806ce45",
   "metadata": {},
   "outputs": [
    {
     "name": "stdout",
     "output_type": "stream",
     "text": [
      "12.576167937809991\n"
     ]
    }
   ],
   "source": [
    "arr = [20, 2, 7, 1, 34]\n",
    "ar_1 = np.array(arr,dtype=')\n",
    "stddd = (np.std(arr))\n",
    "print(stddd)"
   ]
  },
  {
   "cell_type": "code",
   "execution_count": null,
   "id": "2b38aa16-465c-433c-920a-cce69c918d98",
   "metadata": {},
   "outputs": [],
   "source": []
  },
  {
   "cell_type": "code",
   "execution_count": null,
   "id": "cce2ac31-9383-49fb-8ffe-6df40bf3dfff",
   "metadata": {},
   "outputs": [],
   "source": []
  }
 ],
 "metadata": {
  "kernelspec": {
   "display_name": "Python 3 (ipykernel)",
   "language": "python",
   "name": "python3"
  },
  "language_info": {
   "codemirror_mode": {
    "name": "ipython",
    "version": 3
   },
   "file_extension": ".py",
   "mimetype": "text/x-python",
   "name": "python",
   "nbconvert_exporter": "python",
   "pygments_lexer": "ipython3",
   "version": "3.12.4"
  }
 },
 "nbformat": 4,
 "nbformat_minor": 5
}
