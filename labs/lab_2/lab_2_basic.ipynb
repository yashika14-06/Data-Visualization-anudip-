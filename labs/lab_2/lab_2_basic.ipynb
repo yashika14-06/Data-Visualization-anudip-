{
 "cells": [
  {
   "cell_type": "code",
   "execution_count": 6,
   "id": "d3e98276-4204-4478-bb9e-8c027640b2e7",
   "metadata": {},
   "outputs": [
    {
     "name": "stdin",
     "output_type": "stream",
     "text": [
      "Enter the year to check whetherit is leap year or not :  2028\n"
     ]
    },
    {
     "name": "stdout",
     "output_type": "stream",
     "text": [
      "it is leap year\n"
     ]
    }
   ],
   "source": [
    "# Assignment:\n",
    "\n",
    "# 1. Python program to check leap year\n",
    "\n",
    "year = int(input(\"Enter the year to check whetherit is leap year or not : \"))\n",
    "if (year%400 == 0) or (year%100 != 0 and year%4 == 0):\n",
    "                 print(\"it is leap year\")\n",
    "else:\n",
    "                 print(\"it is not leap year\")\n"
   ]
  },
  {
   "cell_type": "code",
   "execution_count": 9,
   "id": "aaff079d-a7f2-45ac-b73e-6af5d6d8cc87",
   "metadata": {},
   "outputs": [
    {
     "name": "stdin",
     "output_type": "stream",
     "text": [
      "Enter the first no. :  10\n",
      "Enter the second no.:  9\n",
      "Enter the third no. :  8\n"
     ]
    },
    {
     "name": "stdout",
     "output_type": "stream",
     "text": [
      "a is largest: 10\n"
     ]
    }
   ],
   "source": [
    "\n",
    "                 \n",
    "# 2. Python Program to Find the Largest Among Three Numbers\n",
    "a = int(input(\"Enter the first no. : \"))\n",
    "b = int(input(\"Enter the second no.: \"))\n",
    "c = int(input(\"Enter the third no. : \"))\n",
    "if a>b and a>c :\n",
    "    print(\"a is largest:\",a)\n",
    "elif b>c:\n",
    "    print(\"b is largest:\",b)\n",
    "else:\n",
    "    print(\"c is largest :\",c)\n",
    "\n"
   ]
  },
  {
   "cell_type": "code",
   "execution_count": 12,
   "id": "7dba77e2-c9ef-450c-820e-5e8a9ba0d3c4",
   "metadata": {},
   "outputs": [
    {
     "name": "stdin",
     "output_type": "stream",
     "text": [
      "Enter the number :  -89\n"
     ]
    },
    {
     "name": "stdout",
     "output_type": "stream",
     "text": [
      "it is negative number\n"
     ]
    }
   ],
   "source": [
    "# 3. Python Program to Check if a Number is Positive, Negative or 0\n",
    "\n",
    "a = int(input(\"Enter the number : \"))\n",
    "if a > 0:\n",
    "    print(\"it is positive number\")\n",
    "elif a < 0:\n",
    "    print(\"it is negative number\")\n",
    "else:\n",
    "    print(\"it is zero\")\n"
   ]
  },
  {
   "cell_type": "code",
   "execution_count": 23,
   "id": "10b37874-d926-4d49-85f4-f3503f394201",
   "metadata": {},
   "outputs": [
    {
     "name": "stdin",
     "output_type": "stream",
     "text": [
      "enter the numeric code for the toy : \n",
      " for battery based enter 1 \n",
      " for key based enter 2 \n",
      " for electricity based enter 3 \n",
      " 500\n"
     ]
    },
    {
     "name": "stdout",
     "output_type": "stream",
     "text": [
      "enter the valid numeric code of toy\n"
     ]
    }
   ],
   "source": [
    "# 4. A toy vendor supplies three types of toys: Battery Based Toys, Key-based\n",
    "\n",
    "# Toys, and Electrical Charging Based Toys. The vendor gives a discount of\n",
    "\n",
    "# 10% on orders for battery-based toys if the order is for more than Rs. 1000.\n",
    "\n",
    "# On orders of more than Rs. 100 for key-based toys, a discount of 5% is\n",
    "\n",
    "# given, and a discount of 10% is given on orders for electrical charging based\n",
    "\n",
    "# toys of value more than Rs. 500. Assume that the numeric codes 1,2 and 3\n",
    "\n",
    "# are used for battery based toys, key-based toys, and electrical charging based\n",
    "\n",
    "# toys respectively. Write a program that reads the product code and the order\n",
    "\n",
    "# amount and prints out the net amount that the customer is required to pay\n",
    "\n",
    "# after the discount.\n",
    "\n",
    "battery_based = 1\n",
    "key_based = 2\n",
    "electricity_based = 3\n",
    "\n",
    "toy_numeric_code = int(input(\"enter the numeric code for the toy : \\n for battery based enter 1 \\n for key based enter 2 \\n for electricity based enter 3 \\n\"))\n",
    "if toy_numeric_code == battery_based :\n",
    "    amount = int(input(\"enter the input: \"))\n",
    "    if amount > 1000:\n",
    "        print(\"you have claimed 10% discount on your purchase \")\n",
    "        dis = (10*amount)/100\n",
    "        print(\"the amount you have to  pay is : \",amount-dis)\n",
    "    else:\n",
    "        print(\" no discount you have amount is : \" ,amount)\n",
    "elif toy_numeric_code == key_based:\n",
    "    amount = int(input(\"enter the input: \"))\n",
    "    if amount > 100:\n",
    "        print(\"you have claimed 5% discount on your purchase \")\n",
    "        dis = (5*amount)/100\n",
    "        print(\"the amount you have to  pay is : \",amount-dis)\n",
    "    else:\n",
    "        print(\" no discount you have amount is : \" ,amount)\n",
    "elif toy_numeric_code == electricity_based:\n",
    "    amount = int(input(\"enter the input: \"))\n",
    "    if amount > 500:\n",
    "        print(\"you have claimed 10% discount on your purchase \")\n",
    "        dis = (10*amount)/100\n",
    "        print(\"the amount you have to  pay is : \",amount-dis)\n",
    "    else:\n",
    "        print(\" no discount you have amount is : \" ,amount)\n",
    "else:\n",
    "    print(\"enter the valid numeric code of toy\")"
   ]
  },
  {
   "cell_type": "code",
   "execution_count": 27,
   "id": "99aaa5a5-52eb-48cd-839c-480edc899f57",
   "metadata": {},
   "outputs": [
    {
     "name": "stdin",
     "output_type": "stream",
     "text": [
      "enter the distance :  52\n"
     ]
    },
    {
     "name": "stdout",
     "output_type": "stream",
     "text": [
      "the charges are :  520\n"
     ]
    }
   ],
   "source": [
    "# 5. A transport company charges the fare according to following table:\n",
    "# Distance Charges\n",
    "\n",
    "# 1-50 8 Rs./Km\n",
    "\n",
    "# 51-100 10 Rs./Km\n",
    "\n",
    "# > 100 12 Rs/Km\n",
    "\n",
    "distance = int(input(\"enter the distance : \"))\n",
    "if distance >= 1 and distance <= 50:\n",
    "    print(\"the charges are : \",distance*8)\n",
    "elif distance >=51 and distance <= 100:\n",
    "    print(\"the charges are : \",distance*10)\n",
    "else :\n",
    "    print(\"the charges are : \",distance*12)"
   ]
  },
  {
   "cell_type": "code",
   "execution_count": 33,
   "id": "f65afc5b-9756-4bbd-ba07-2b2aaa059448",
   "metadata": {},
   "outputs": [
    {
     "name": "stdin",
     "output_type": "stream",
     "text": [
      "Enter the number :  552\n"
     ]
    },
    {
     "name": "stdout",
     "output_type": "stream",
     "text": [
      "255\n"
     ]
    }
   ],
   "source": [
    "# 6. Write a python program to reverse a number using a while loop.\n",
    "\n",
    "a = int(input(\"Enter the number : \"))\n",
    "prod = 0\n",
    "rem = 0\n",
    "while a != 0:\n",
    "    rem = a%10\n",
    "    prod = prod*10 +rem\n",
    "    a = a//10\n",
    "print(prod)\n",
    "    "
   ]
  },
  {
   "cell_type": "code",
   "execution_count": 36,
   "id": "f1d8ad81-7926-4a53-843d-b908ad70d7fb",
   "metadata": {},
   "outputs": [
    {
     "name": "stdin",
     "output_type": "stream",
     "text": [
      "Enter the number :  852\n"
     ]
    },
    {
     "name": "stdout",
     "output_type": "stream",
     "text": [
      "it is not palindrme\n"
     ]
    }
   ],
   "source": [
    "# 7. Write a python program to check whether a number is palindrome or\n",
    "\n",
    "# not?\n",
    "\n",
    "a = int(input(\"Enter the number : \"))\n",
    "b = a\n",
    "prod = 0\n",
    "rem = 0\n",
    "while a != 0:\n",
    "    rem = a%10\n",
    "    prod = prod*10 +rem\n",
    "    a = a//10\n",
    "if b ==  prod:\n",
    "    print(\"it is palindrme\")\n",
    "else:\n",
    "    print(\"it is not palindrme\")\n"
   ]
  },
  {
   "cell_type": "code",
   "execution_count": 37,
   "id": "77705a79-b390-454a-adb7-64a1ef048071",
   "metadata": {},
   "outputs": [
    {
     "name": "stdin",
     "output_type": "stream",
     "text": [
      "enter the number 5\n"
     ]
    },
    {
     "name": "stdout",
     "output_type": "stream",
     "text": [
      "120\n"
     ]
    }
   ],
   "source": [
    "# 8. Write a python program finding the factorial of a given number using\n",
    "\n",
    "# a while loop.\n",
    "a = int(input(\"enter the number\"))\n",
    "fact = 1\n",
    "while a != 0:\n",
    "    fact = fact*a\n",
    "    a = a-1\n",
    "print(fact)\n",
    "    \n"
   ]
  },
  {
   "cell_type": "code",
   "execution_count": 40,
   "id": "2dc8ea3c-a864-49df-a091-283c5133b2f6",
   "metadata": {},
   "outputs": [
    {
     "name": "stdin",
     "output_type": "stream",
     "text": [
      "Enter the numbers :  5\n",
      "More... 6\n",
      "More... 2\n",
      "More... 5\n",
      "More... 5\n",
      "More... 8\n",
      "More... 6\n",
      "More... 5\n",
      "More... 0\n"
     ]
    },
    {
     "name": "stdout",
     "output_type": "stream",
     "text": [
      "42\n"
     ]
    }
   ],
   "source": [
    "# 9. Accept numbers using input() function until the user enters 0. If user\n",
    "\n",
    "# input 0 then break the while loop and display the sum of all the\n",
    "\n",
    "# numbers.\n",
    "a = int(input(\"Enter the numbers : \"))\n",
    "sum = 0\n",
    "while a != 0:\n",
    "    sum = sum + a\n",
    "    a = int(input(\"More...\"))\n",
    "print(sum)\n"
   ]
  },
  {
   "cell_type": "code",
   "execution_count": 43,
   "id": "d977dc25-cfcb-4e84-8632-4c9727365441",
   "metadata": {},
   "outputs": [
    {
     "name": "stdout",
     "output_type": "stream",
     "text": [
      "1\n",
      "2\n",
      "3\n",
      "4\n",
      "5\n",
      "6\n",
      "7\n",
      "8\n",
      "9\n",
      "10\n"
     ]
    }
   ],
   "source": [
    "# 10. Print the first 10 natural numbers using for loop\n",
    "i = 1\n",
    "while i<= 10:\n",
    "    print(i)\n",
    "    i = i+1\n"
   ]
  },
  {
   "cell_type": "code",
   "execution_count": 53,
   "id": "7be0f3c6-ccb0-40c0-8b63-e442c833750a",
   "metadata": {},
   "outputs": [
    {
     "name": "stdin",
     "output_type": "stream",
     "text": [
      "Enter the string :  yas\n"
     ]
    },
    {
     "name": "stdout",
     "output_type": "stream",
     "text": [
      "it is not\n"
     ]
    }
   ],
   "source": [
    "# 11. Python program to check if the given string is a palindrome\n",
    "a = input(\"Enter the string : \")\n",
    "rev = a[::-1]\n",
    "if a == rev:\n",
    "    print(\"it is palindrome\")\n",
    "else:\n",
    "    print(\"it is not\")\n"
   ]
  },
  {
   "cell_type": "code",
   "execution_count": 75,
   "id": "d752a97b-62b5-423f-8d12-b03047bf6e72",
   "metadata": {},
   "outputs": [
    {
     "name": "stdin",
     "output_type": "stream",
     "text": [
      "Enter the input :  407\n"
     ]
    },
    {
     "name": "stdout",
     "output_type": "stream",
     "text": [
      "it is armstrong number\n"
     ]
    }
   ],
   "source": [
    "# 12. Python program to check if a given number is an Armstrong number\n",
    "a = int(input(\"Enter the input : \"))\n",
    "b = a\n",
    "length = 0\n",
    "while a != 0:\n",
    "    length = length+1\n",
    "    a = a//10\n",
    "a = b\n",
    "arm = 0\n",
    "while b != 0:\n",
    "    rem = b%10\n",
    "    arm = arm + rem**length\n",
    "    b = b//10\n",
    "print(\"it is armstrong number\" if a == arm else  \"it is not\")\n"
   ]
  },
  {
   "cell_type": "code",
   "execution_count": 82,
   "id": "154e122b-d9bb-4a66-a8b6-d6cbf1c24d6a",
   "metadata": {},
   "outputs": [
    {
     "name": "stdout",
     "output_type": "stream",
     "text": [
      "0\n",
      "1\n",
      "2\n",
      "3\n",
      "5\n",
      "8\n",
      "13\n",
      "21\n",
      "34\n"
     ]
    }
   ],
   "source": [
    "    \n",
    "# 13. Python program to get the Fibonacci series between 0 to 50\n",
    "a = 0\n",
    "b = 1\n",
    "print(a)\n",
    "print(b)\n",
    "c = a+b\n",
    "while c <= 21:\n",
    "    a = b\n",
    "    b = c\n",
    "    c = a+b\n",
    "    print(c)\n",
    "\n"
   ]
  },
  {
   "cell_type": "code",
   "execution_count": 89,
   "id": "69e0b42b-2b5e-43b9-a47b-fb7b12cd0164",
   "metadata": {},
   "outputs": [
    {
     "name": "stdin",
     "output_type": "stream",
     "text": [
      "enter the password :  ui23kj\n"
     ]
    },
    {
     "name": "stdout",
     "output_type": "stream",
     "text": [
      "there should be atleast 8 characters\n",
      "it should have atleast 1 uppercase character\n",
      "it should have atleast 1 special character\n",
      "it is invalid password\n"
     ]
    }
   ],
   "source": [
    "# # 14. Python program to check the validity of password input by user\n",
    "\n",
    "# Password Validation Criteria\n",
    "# At least 8 characters long.\n",
    "# Contains both uppercase and lowercase characters.\n",
    "# Contains at least one digit.\n",
    "# Contains at least one special character (e.g., !, @, #, $, etc.)\n",
    "import re\n",
    "pwd = input(\"enter the password : \")\n",
    "Count_1 = 0\n",
    "if len(pwd) < 8 :\n",
    "    print(\"there should be atleast 8 characters\")\n",
    "    Count_1 = Count_1 + 1\n",
    "if not re.search(\"[a-z]\",pwd):\n",
    "    print(\"it should have atleast 1 lowercase character\")\n",
    "    Count_1 = Count_1 + 1\n",
    "if not re.search(\"[A-Z]\",pwd):\n",
    "    print(\"it should have atleast 1 uppercase character\")\n",
    "    Count_1 = Count_1 + 1\n",
    "if not re.search(\"[0-9]\",pwd):\n",
    "    print(\"it should have atleast 1 digit\")\n",
    "    Count_1 = Count_1 + 1\n",
    "if not re.search(\"[a-z]\",pwd):\n",
    "    print(\"it should have lowercase characters\")\n",
    "    Count_1 = Count_1 + 1\n",
    "if not re.search(\"[!@#$%^&*(),.?\\\":{}|<>]\",pwd):\n",
    "    print(\"it should have atleast 1 special character\") \n",
    "    Count_1 = Count_1 + 1\n",
    "\n",
    "if Count_1 > 0:\n",
    "    print(\"it is invalid password\")\n",
    "    \n",
    "else :\n",
    "    print(\"it is valid password\")\n",
    "\n",
    "\n"
   ]
  },
  {
   "cell_type": "code",
   "execution_count": null,
   "id": "fa0fc07b-239e-4bac-9991-64b2ef00e35a",
   "metadata": {},
   "outputs": [],
   "source": []
  }
 ],
 "metadata": {
  "kernelspec": {
   "display_name": "Python 3 (ipykernel)",
   "language": "python",
   "name": "python3"
  },
  "language_info": {
   "codemirror_mode": {
    "name": "ipython",
    "version": 3
   },
   "file_extension": ".py",
   "mimetype": "text/x-python",
   "name": "python",
   "nbconvert_exporter": "python",
   "pygments_lexer": "ipython3",
   "version": "3.12.4"
  }
 },
 "nbformat": 4,
 "nbformat_minor": 5
}
