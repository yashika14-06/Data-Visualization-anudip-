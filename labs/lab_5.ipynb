{
 "cells": [
  {
   "cell_type": "code",
   "execution_count": null,
   "id": "81b200e0-f375-465d-b79d-9448578ac7f6",
   "metadata": {},
   "outputs": [],
   "source": [
    "# Assignment:\n",
    "\n",
    "\n",
    "\n",
    "# 1. Write a function in python to read the content from a text file \"ABC.txt\" line by line\n",
    "\n",
    "# and display the same on screen.\n",
    "\n",
    "# 2. Write a function in Python to count and display the total number of words in a text\n",
    "\n",
    "# file “ABC.txt”\n",
    "\n",
    "# 3. Write a function in Python to count uppercase character in a text file “ABC.txt”\n",
    "\n",
    "# 4. Write a function display_words() in python to read lines from a text file \"story.txt\",\n",
    "\n",
    "# and display those words, which are less than 4 characters.\n",
    "\n",
    "\n",
    "\n",
    "\n",
    "\n",
    "# Assignment:\n",
    "\n",
    "# 1. Write a Python program to handle a ZeroDivisionError exception when dividing a\n",
    "\n",
    "# number by zero.\n",
    "\n",
    "# 2. Write a Python program that prompts the user to input an integer and raises a\n",
    "\n",
    "# ValueError exception if the input is not a valid integer.\n",
    "\n",
    "# 3. Write a Python program that opens a file and handles a FileNotFoundError exception\n",
    "\n",
    "# if the file does not exist.\n",
    "\n",
    "# 4. Write a Python program that prompts the user to input two numbers and raises a\n",
    "\n",
    "# TypeError exception if the inputs are not numerical\n",
    "\n"
   ]
  }
 ],
 "metadata": {
  "kernelspec": {
   "display_name": "Python 3 (ipykernel)",
   "language": "python",
   "name": "python3"
  },
  "language_info": {
   "codemirror_mode": {
    "name": "ipython",
    "version": 3
   },
   "file_extension": ".py",
   "mimetype": "text/x-python",
   "name": "python",
   "nbconvert_exporter": "python",
   "pygments_lexer": "ipython3",
   "version": "3.12.4"
  }
 },
 "nbformat": 4,
 "nbformat_minor": 5
}
