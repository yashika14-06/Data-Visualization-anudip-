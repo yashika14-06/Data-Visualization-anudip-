{
 "cells": [
  {
   "cell_type": "code",
   "execution_count": null,
   "id": "b4bd92e4-20fc-48c9-aa4d-0b04442dc460",
   "metadata": {},
   "outputs": [],
   "source": [
    "# Assignment:\n",
    "\n",
    "# 1. Declare a div() function with two parameters. Then call the function and pass two\n",
    "\n",
    "# numbers and display their division.\n",
    "def div(a,b):\n",
    "    c = a//b\n",
    "    return c\n",
    "a = int(input(\"enter the divisor\"))\n",
    "b = int(input(\"enter the dividend\"))\n",
    "print(div(b,a))"
   ]
  },
  {
   "cell_type": "code",
   "execution_count": null,
   "id": "6b992914-c085-4af3-ad40-1cb8621ac159",
   "metadata": {},
   "outputs": [],
   "source": [
    "\n",
    "# 2. Declare a square() function with one parameter.Then call the function and pass\n",
    "\n",
    "# one number and display the square of that number .\n",
    "\n",
    "def square(a):\n",
    "    return a**2\n",
    "a = int(input(\"enter the number: \"))\n",
    "print(square(a))"
   ]
  },
  {
   "cell_type": "code",
   "execution_count": null,
   "id": "66b40c04-d8e6-4082-8c10-3862fae3885f",
   "metadata": {},
   "outputs": [],
   "source": [
    "\n",
    "# 3. Using max() and min() functions display the maximum and minimum of 5 random\n",
    "\n",
    "# numbers.\n",
    "\n",
    "import numpy as np\n",
    "import random\n",
    "\n",
    "def min_max():\n",
    "    arr = np.random.randint(1, 50, 5)\n",
    "    print(\"Array:\", arr)\n",
    "    print(\"Maximum:\", max(arr))\n",
    "    print(\"Minimum:\", min(arr))\n",
    "\n",
    "min_max()\n"
   ]
  },
  {
   "cell_type": "code",
   "execution_count": null,
   "id": "b56402f3-e23c-46d9-800b-7119da28613e",
   "metadata": {},
   "outputs": [],
   "source": [
    "\n",
    "# 4. Accept a name from the user and display that in lower case using lower()\n",
    "\n",
    "# function\n",
    "\n",
    "\n",
    "un = input(\"enter you name : \")\n",
    "print(\"the orginal name : \",un)\n",
    "print(\"after applying the lower function :\",un.lower())\n",
    "print(un.lower())\n"
   ]
  },
  {
   "cell_type": "code",
   "execution_count": 1,
   "id": "fc2b4301-e14c-4c30-a766-e09e2890c09d",
   "metadata": {},
   "outputs": [
    {
     "name": "stdout",
     "output_type": "stream",
     "text": [
      "('To', 2) ('change', 2) ('the', 3) ('overall', 1) ('look', 2) ('of', 1) ('your', 1) ('document.', 1) ('available', 1) ('in', 1) ('gallery', 1)\n"
     ]
    }
   ],
   "source": [
    "# Assignment:\n",
    "\n",
    "# 1. Write a Python program to count the occurrences of each word in a\n",
    "\n",
    "# given sentence\n",
    "\n",
    "# string = “To change the overall look of your document. To change the look\n",
    "\n",
    "# available in the gallery”\n",
    "\n",
    "input = \"To change the overall look of your document. To change the look available in the gallery\"\n",
    "# a = input.split()\n",
    "# for i in a:\n",
    "#     print(\"no of\",i ,\":\",a.count(i))\n",
    "    \n",
    "input = input.split()\n",
    "dict = {}\n",
    "for i  in input:\n",
    "    count = 0 \n",
    "    for j in input:\n",
    "        if i == j:\n",
    "            count += 1\n",
    "    dict[i] = count\n",
    "print(*dict.items())"
   ]
  },
  {
   "cell_type": "code",
   "execution_count": 2,
   "id": "6a936547-27c1-42df-ad8f-ec3948ab23ff",
   "metadata": {},
   "outputs": [
    {
     "name": "stdout",
     "output_type": "stream",
     "text": [
      "Best Deeptech Python Training\n"
     ]
    }
   ],
   "source": [
    "# 2. Write a Python program to remove a newline in Python\n",
    "\n",
    "# String = \"\\nBest \\nDeeptech \\nPython \\nTraining\\n\"\n",
    "\n",
    "strr = \"\\nBest \\nDeeptech \\nPython \\nTraining\\n\"\n",
    "print(strr.replace(\"\\n\",\"\"))"
   ]
  },
  {
   "cell_type": "code",
   "execution_count": 5,
   "id": "ecc216c4-be80-43ec-8860-e47e23c7942e",
   "metadata": {},
   "outputs": [
    {
     "name": "stdout",
     "output_type": "stream",
     "text": [
      "Training Python Deeptech "
     ]
    }
   ],
   "source": [
    "# 3. Write a Python program to reverse words in a string\n",
    "\n",
    "# String = “Deeptech Python Training”\n",
    "\n",
    "Stri = \"Deeptech Python Training\"\n",
    "c = Stri.split()\n",
    "d = len(c)-1\n",
    "for i in c:\n",
    "    print(c[d],end=\" \")\n",
    "    d-=1"
   ]
  },
  {
   "cell_type": "code",
   "execution_count": null,
   "id": "3d306c9e-1252-4107-ab11-c1200d5e4524",
   "metadata": {},
   "outputs": [],
   "source": [
    "# 4. Write a Python program to count and display the vowels of a given\n",
    "\n",
    "# text\n",
    "\n",
    "# String=”Welcome to python Training”\n",
    "\n",
    "String = \"Welcome to python Training\"\n",
    "cot = 0\n",
    "for i in String:\n",
    "    if i == 'a' or i == 'e' or i =='o' or i == 'u' or i == 'i':\n",
    "        cot += 1\n",
    "print(cot)"
   ]
  },
  {
   "cell_type": "code",
   "execution_count": 14,
   "id": "e865c825-564e-4fa2-bb8f-1fd8d22350e4",
   "metadata": {},
   "outputs": [
    {
     "name": "stdout",
     "output_type": "stream",
     "text": [
      "Count of Letter 8\n",
      "Count of digits :  3\n",
      "Count of special characters :  4\n"
     ]
    }
   ],
   "source": [
    "# Assignment:\n",
    "\n",
    "# 1. Write a Python program to Count all letters, digits, and special\n",
    "\n",
    "# symbols from the given string\n",
    "\n",
    "# Input = “P@#yn26at^&i5ve”\n",
    "import re\n",
    "input = \"P@#yn26at^&i5ve\"\n",
    "letter_count = 0\n",
    "num_count = 0\n",
    "special_char = 0\n",
    "length = len(input)\n",
    "for i in input:\n",
    "    if re.search(\"[a-z]\",i):\n",
    "         letter_count += 1\n",
    "    elif re.search(\"[A-Z]\",i):\n",
    "        letter_count += 1\n",
    "    elif re.search(\"[0-9]\",i):\n",
    "        num_count += 1\n",
    "    else:\n",
    "        special_char += 1\n",
    "        \n",
    "        \n",
    "   \n",
    "\n",
    "print(\"Count of Letter\",letter_count)\n",
    "print(\"Count of digits : \",num_count)\n",
    "print(\"Count of special characters : \",special_char)\n",
    "\n"
   ]
  },
  {
   "cell_type": "code",
   "execution_count": 33,
   "id": "3d561ff8-e47f-4a01-ba11-9254265d3a8e",
   "metadata": {},
   "outputs": [
    {
     "name": "stdout",
     "output_type": "stream",
     "text": [
      "String and Function\n"
     ]
    }
   ],
   "source": [
    "# 2. Write a Python program to remove duplicate characters of a given\n",
    "\n",
    "# string.\n",
    "\n",
    "# Input = “String and String Function”\n",
    "input = \"String and String Function\"\n",
    "input = input.split()\n",
    "dict = {}\n",
    "for i  in input:\n",
    "    count = 0 \n",
    "    for j in input:\n",
    "        if i == j:\n",
    "            count += 1\n",
    "    dict[i] = count\n",
    "print(*dict.keys())\n",
    "            \n",
    "\n",
    "\n"
   ]
  },
  {
   "cell_type": "code",
   "execution_count": 22,
   "id": "671bb8de-60cc-4d08-899e-9d76e9ebb0e9",
   "metadata": {},
   "outputs": [
    {
     "name": "stdout",
     "output_type": "stream",
     "text": [
      "Uppercase :  5\n",
      "lowercase :  18\n",
      "NumberCase :  5\n",
      "SpecialCase :  11\n"
     ]
    }
   ],
   "source": [
    "# 3. Write a Python program to count Uppercase, Lowercase, special\n",
    "\n",
    "# character and numeric values in a given string\n",
    "\n",
    "# Input = “Hell0 W0rld ! 123 * # welcome to pYtHoN”\n",
    "\n",
    "import re\n",
    "input = \"Hell0 W0rld ! 123 * # welcome to pYtHoN\"\n",
    "lowercase_count = 0\n",
    "uppercase_count = 0\n",
    "num_count = 0\n",
    "special_char = 0\n",
    "length = len(input)\n",
    "for i in input:\n",
    "    if re.search(\"[a-z]\",i):\n",
    "         lowercase_count += 1\n",
    "    elif re.search(\"[A-Z]\",i):\n",
    "        uppercase_count += 1\n",
    "    elif re.search(\"[0-9]\",i):\n",
    "        num_count += 1\n",
    "    else:\n",
    "        special_char += 1\n",
    "        \n",
    "        \n",
    "   \n",
    "print(\"Uppercase : \",uppercase_count)\n",
    "print(\"lowercase : \",lowercase_count)\n",
    "print(\"NumberCase : \",num_count)\n",
    "print(\"SpecialCase : \",special_char)\n"
   ]
  },
  {
   "cell_type": "code",
   "execution_count": 21,
   "id": "b4421347-5d38-4385-b66c-0fc41fa2cffd",
   "metadata": {},
   "outputs": [
    {
     "name": "stdout",
     "output_type": "stream",
     "text": [
      "Total vowels are:  8\n"
     ]
    }
   ],
   "source": [
    "# 4. Write a Python Count vowels in a string\n",
    "\n",
    "# input= “Welcome to Python Assignment”\n",
    "input = \"Welcome to Python Assignment\"\n",
    "vowel = 0\n",
    "for i in input:\n",
    "    if i == 'a' or i == 'e' or i == 'o' or i == 'i' or i == 'u' or i == 'A' or i == 'E' or i == 'I' or i == 'O' or i == 'U':\n",
    "        vowel += 1\n",
    "print(\"Total vowels are: \",vowel)\n",
    "\n",
    "# Output: Total vowels are: 8"
   ]
  }
 ],
 "metadata": {
  "kernelspec": {
   "display_name": "Python 3 (ipykernel)",
   "language": "python",
   "name": "python3"
  },
  "language_info": {
   "codemirror_mode": {
    "name": "ipython",
    "version": 3
   },
   "file_extension": ".py",
   "mimetype": "text/x-python",
   "name": "python",
   "nbconvert_exporter": "python",
   "pygments_lexer": "ipython3",
   "version": "3.12.4"
  }
 },
 "nbformat": 4,
 "nbformat_minor": 5
}
